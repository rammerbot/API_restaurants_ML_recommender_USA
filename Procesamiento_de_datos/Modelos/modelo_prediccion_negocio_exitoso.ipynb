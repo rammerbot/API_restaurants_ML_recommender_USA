{
 "cells": [
  {
   "cell_type": "code",
   "execution_count": 1,
   "metadata": {},
   "outputs": [],
   "source": [
    "import pandas as pd"
   ]
  },
  {
   "cell_type": "code",
   "execution_count": 2,
   "metadata": {},
   "outputs": [],
   "source": [
    "df_negocios=pd.read_csv('restaurantes por subcategoria.csv',encoding='utf-8',sep=',')"
   ]
  },
  {
   "cell_type": "code",
   "execution_count": 3,
   "metadata": {},
   "outputs": [],
   "source": [
    "pd_reviews=pd.read_parquet('review_final_final.parquet', engine='pyarrow')"
   ]
  },
  {
   "cell_type": "code",
   "execution_count": 4,
   "metadata": {},
   "outputs": [],
   "source": [
    "# Crear columna para sentimientos positivos\n",
    "pd_reviews['positive_sentiment'] = pd_reviews['sentiment'].apply(lambda x: 1 if x == 'positive' else 0)\n",
    "\n",
    "# Crear columna para sentimientos negativos\n",
    "pd_reviews['negative_sentiment'] = pd_reviews['sentiment'].apply(lambda x: 1 if x =='negative' else 0)\n",
    "grouped_sentiments = pd_reviews.groupby('gmap_id').agg({\n",
    "    'positive_sentiment': 'sum',\n",
    "    'negative_sentiment': 'sum'\n",
    "}).reset_index()"
   ]
  },
  {
   "cell_type": "code",
   "execution_count": 5,
   "metadata": {},
   "outputs": [],
   "source": [
    "df_merged = pd.merge(df_negocios, grouped_sentiments, on='gmap_id', how='inner')"
   ]
  },
  {
   "cell_type": "code",
   "execution_count": 6,
   "metadata": {},
   "outputs": [],
   "source": [
    "# Supongamos que df es tu DataFrame con los datos mencionados\n",
    "df_merged['success'] = df_merged['avg_rating'].apply(lambda x: 1 if x >= 3.5 else 0)"
   ]
  },
  {
   "cell_type": "code",
   "execution_count": null,
   "metadata": {},
   "outputs": [],
   "source": [
    "df_negocios"
   ]
  },
  {
   "cell_type": "code",
   "execution_count": 7,
   "metadata": {},
   "outputs": [],
   "source": [
    "features = ['latitude', 'longitude', 'num_of_reviews', 'cluster', 'negative_sentiment','positive_sentiment']\n",
    "X = df_merged[features]\n",
    "y = df_merged['success']"
   ]
  },
  {
   "cell_type": "code",
   "execution_count": 9,
   "metadata": {},
   "outputs": [],
   "source": [
    "from sklearn.model_selection import train_test_split\n",
    "from sklearn.ensemble import RandomForestClassifier\n",
    "from sklearn.metrics import accuracy_score, classification_report\n",
    "\n",
    "\n",
    "X_train, X_test, y_train, y_test = train_test_split(X, y, test_size=0.2, random_state=42)"
   ]
  },
  {
   "cell_type": "code",
   "execution_count": 10,
   "metadata": {},
   "outputs": [
    {
     "name": "stdout",
     "output_type": "stream",
     "text": [
      "Accuracy: 0.9330543933054394\n",
      "              precision    recall  f1-score   support\n",
      "\n",
      "           0       0.70      0.13      0.23       104\n",
      "           1       0.94      1.00      0.97      1330\n",
      "\n",
      "    accuracy                           0.93      1434\n",
      "   macro avg       0.82      0.57      0.60      1434\n",
      "weighted avg       0.92      0.93      0.91      1434\n",
      "\n"
     ]
    }
   ],
   "source": [
    "\n",
    "# Entrenar el modelo\n",
    "model = RandomForestClassifier(n_estimators=100, random_state=42)\n",
    "model.fit(X_train, y_train)\n",
    "\n",
    "# Predecir en el conjunto de prueba\n",
    "y_pred = model.predict(X_test)\n",
    "\n",
    "# Evaluar el modelo\n",
    "accuracy = accuracy_score(y_test, y_pred)\n",
    "report = classification_report(y_test, y_pred)\n",
    "\n",
    "print(f'Accuracy: {accuracy}')\n",
    "print(report)"
   ]
  },
  {
   "cell_type": "code",
   "execution_count": 29,
   "metadata": {},
   "outputs": [],
   "source": [
    "# Ejemplo de los datos de entrada para un nuevo negocio\n",
    "new_data = {\n",
    "    'latitude': 34.0580917,\n",
    "    'longitude': -118.2921295,\n",
    "    'num_of_reviews': 301,\n",
    "    'cluster': 33,\n",
    "    'negative_sentiment':300,\n",
    "    'positive_sentiment':1\n",
    "}\n",
    "\n",
    "# Convertir los datos de entrada a un DataFrame\n",
    "new_data_df = pd.DataFrame([new_data])"
   ]
  },
  {
   "cell_type": "code",
   "execution_count": 27,
   "metadata": {},
   "outputs": [],
   "source": [
    "# Ejemplo de los datos de entrada para un nuevo negocio\n",
    "new_data = {\n",
    "    'latitude': 34.0580917,\n",
    "    'longitude': -118.2921295,\n",
    "    'num_of_reviews': 35,\n",
    "    'cluster': 4,\n",
    "    'negative_sentiment':5,\n",
    "    'positive_sentiment':30\n",
    "}\n",
    "\n",
    "# Convertir los datos de entrada a un DataFrame\n",
    "new_data_df = pd.DataFrame([new_data])"
   ]
  },
  {
   "cell_type": "code",
   "execution_count": 30,
   "metadata": {},
   "outputs": [
    {
     "name": "stdout",
     "output_type": "stream",
     "text": [
      "Predicción: El negocio no será exitoso.\n"
     ]
    }
   ],
   "source": [
    "# Hacer la predicción\n",
    "prediction = model.predict(new_data_df)\n",
    "\n",
    "# Interpretar el resultado\n",
    "if prediction[0] == 1:\n",
    "    print(\"Predicción: El negocio será exitoso.\")\n",
    "else:\n",
    "    print(\"Predicción: El negocio no será exitoso.\")\n"
   ]
  }
 ],
 "metadata": {
  "kernelspec": {
   "display_name": "entornovirtual",
   "language": "python",
   "name": "python3"
  },
  "language_info": {
   "codemirror_mode": {
    "name": "ipython",
    "version": 3
   },
   "file_extension": ".py",
   "mimetype": "text/x-python",
   "name": "python",
   "nbconvert_exporter": "python",
   "pygments_lexer": "ipython3",
   "version": "3.10.0"
  }
 },
 "nbformat": 4,
 "nbformat_minor": 2
}
