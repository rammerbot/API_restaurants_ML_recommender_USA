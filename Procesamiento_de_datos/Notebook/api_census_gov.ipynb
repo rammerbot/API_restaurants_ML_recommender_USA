{
 "cells": [
  {
   "cell_type": "code",
   "execution_count": null,
   "metadata": {},
   "outputs": [],
   "source": [
    "import requests\n",
    "import json\n",
    "\n",
    "anio = [2022, 2021, 2020, 2019, 2018]\n",
    "\n",
    "# Lista para almacenar todos los datos\n",
    "all_data = []\n",
    "\n",
    "for i in anio:\n",
    "    url = f'https://api.census.gov/data/{i}/acs/acs5?get=NAME,B01003_001E&for=state:*&key=8915c64c19c6cde304bdf112edcda3314d880f6b'\n",
    "    response_p = requests.get(url)\n",
    "    if response_p.status_code == 200:\n",
    "        try:\n",
    "            # Parsear la respuesta JSON\n",
    "            data = response_p.json()\n",
    "            \n",
    "            # Añadir el año a cada registro\n",
    "            if len(data) > 1:\n",
    "                header = data[0]  # Encabezado\n",
    "                rows = data[1:]   # Datos sin encabezado\n",
    "                for row in rows:\n",
    "                    # Crear un objeto JSON para cada fila y añadir el año\n",
    "                    record = dict(zip(header + [\"Year\"], row + [i]))\n",
    "                    all_data.append(record)\n",
    "            else:\n",
    "                print(f\"No hay datos para el año {i}.\")\n",
    "        except json.JSONDecodeError:\n",
    "            print(f\"Error al decodificar JSON: {response_p.text}\")\n",
    "    else:\n",
    "        print(f\"Error en consulta API: {response_p.status_code}, {response_p.text}\")\n",
    "\n",
    "# Escribir todos los datos en un archivo JSON\n",
    "with open('../Data-externa/population.json', 'w') as f:\n",
    "    json.dump(all_data, f, indent=4)  # `indent=4` para formato legible"
   ]
  }
 ],
 "metadata": {
  "language_info": {
   "name": "python"
  }
 },
 "nbformat": 4,
 "nbformat_minor": 2
}
